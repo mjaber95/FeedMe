{
 "cells": [
  {
   "cell_type": "code",
   "execution_count": 1,
   "id": "10cc646f",
   "metadata": {
    "collapsed": true
   },
   "outputs": [
    {
     "name": "stdout",
     "output_type": "stream",
     "text": [
      "Requirement already satisfied: plotly.express in /Users/zacharie/.pyenv/versions/3.8.13/envs/FeedMe/lib/python3.8/site-packages (0.4.1)\r\n",
      "Requirement already satisfied: plotly>=4.1.0 in /Users/zacharie/.pyenv/versions/3.8.13/envs/FeedMe/lib/python3.8/site-packages (from plotly.express) (5.8.0)\r\n",
      "Requirement already satisfied: numpy>=1.11 in /Users/zacharie/.pyenv/versions/3.8.13/envs/FeedMe/lib/python3.8/site-packages (from plotly.express) (1.22.4)\r\n",
      "Requirement already satisfied: scipy>=0.18 in /Users/zacharie/.pyenv/versions/3.8.13/envs/FeedMe/lib/python3.8/site-packages (from plotly.express) (1.8.1)\r\n",
      "Requirement already satisfied: statsmodels>=0.9.0 in /Users/zacharie/.pyenv/versions/3.8.13/envs/FeedMe/lib/python3.8/site-packages (from plotly.express) (0.13.2)\r\n",
      "Requirement already satisfied: patsy>=0.5 in /Users/zacharie/.pyenv/versions/3.8.13/envs/FeedMe/lib/python3.8/site-packages (from plotly.express) (0.5.2)\r\n",
      "Requirement already satisfied: pandas>=0.20.0 in /Users/zacharie/.pyenv/versions/3.8.13/envs/FeedMe/lib/python3.8/site-packages (from plotly.express) (1.4.2)\r\n",
      "Requirement already satisfied: pytz>=2020.1 in /Users/zacharie/.pyenv/versions/3.8.13/envs/FeedMe/lib/python3.8/site-packages (from pandas>=0.20.0->plotly.express) (2022.1)\r\n",
      "Requirement already satisfied: python-dateutil>=2.8.1 in /Users/zacharie/.pyenv/versions/3.8.13/envs/FeedMe/lib/python3.8/site-packages (from pandas>=0.20.0->plotly.express) (2.8.2)\r\n",
      "Requirement already satisfied: six in /Users/zacharie/.pyenv/versions/3.8.13/envs/FeedMe/lib/python3.8/site-packages (from patsy>=0.5->plotly.express) (1.16.0)\r\n",
      "Requirement already satisfied: tenacity>=6.2.0 in /Users/zacharie/.pyenv/versions/3.8.13/envs/FeedMe/lib/python3.8/site-packages (from plotly>=4.1.0->plotly.express) (8.0.1)\r\n",
      "Requirement already satisfied: packaging>=21.3 in /Users/zacharie/.pyenv/versions/3.8.13/envs/FeedMe/lib/python3.8/site-packages (from statsmodels>=0.9.0->plotly.express) (21.3)\r\n",
      "Requirement already satisfied: pyparsing!=3.0.5,>=2.0.2 in /Users/zacharie/.pyenv/versions/3.8.13/envs/FeedMe/lib/python3.8/site-packages (from packaging>=21.3->statsmodels>=0.9.0->plotly.express) (3.0.9)\r\n"
     ]
    }
   ],
   "source": [
    "# Import Modules \n",
    "\n",
    "import pandas as pd\n",
    "import numpy as np \n",
    "import seaborn as sns\n",
    "import matplotlib.pyplot as plt\n",
    "from ast import literal_eval\n",
    "\n",
    "!pip install plotly.express\n",
    "import plotly.express as px\n",
    "# Data Visualisation\n",
    "import matplotlib.pyplot as plt\n",
    "import seaborn as sns\n",
    "\n",
    "# Pipeline and Column Transformers\n",
    "from sklearn.pipeline import Pipeline\n",
    "from sklearn.compose import ColumnTransformer, make_column_selector\n",
    "from sklearn import set_config\n",
    "set_config(display = \"diagram\")\n",
    "\n",
    "# Scaling\n",
    "from sklearn.preprocessing import RobustScaler, StandardScaler, MinMaxScaler\n",
    "\n",
    "# Cross Validation\n",
    "from sklearn.model_selection import cross_validate\n",
    "from sklearn.model_selection import cross_val_predict\n",
    "\n",
    "# Unsupervised Learning\n",
    "from sklearn.decomposition import PCA\n",
    "from sklearn.cluster import KMeans "
   ]
  },
  {
   "cell_type": "code",
   "execution_count": 2,
   "id": "280e2183",
   "metadata": {},
   "outputs": [],
   "source": [
    "# Loading Dataset\n",
    "\n",
    "%load_ext autoreload\n",
    "%autoreload 2\n",
    "\n",
    "data = pd.read_csv(\"../raw_data/Recipes_incl_pre_time.csv\")\n",
    "\n",
    "data.Relabelled_Ingredients = data.Relabelled_Ingredients.apply(literal_eval)\n",
    "data['Instructions'] = data.Instructions.apply(str)\n",
    "data = data.drop(columns=['Unnamed: 0.1'])"
   ]
  },
  {
   "cell_type": "code",
   "execution_count": 3,
   "id": "2a523281",
   "metadata": {},
   "outputs": [],
   "source": [
    "#Creating metrics\n",
    "\n",
    "data['number_of_ingredients'] = data.apply(lambda x: len(x['Relabelled_Ingredients']), axis = 1 )\n",
    "data['length_of_instructions'] = data.apply(lambda x: len(x['Instructions']), axis = 1 )\n"
   ]
  },
  {
   "cell_type": "code",
   "execution_count": 4,
   "id": "407b3478",
   "metadata": {},
   "outputs": [],
   "source": [
    "X = data[['number_of_ingredients','length_of_instructions']]"
   ]
  },
  {
   "cell_type": "code",
   "execution_count": 5,
   "id": "9a491138",
   "metadata": {},
   "outputs": [
    {
     "data": {
      "text/html": [
       "<div>\n",
       "<style scoped>\n",
       "    .dataframe tbody tr th:only-of-type {\n",
       "        vertical-align: middle;\n",
       "    }\n",
       "\n",
       "    .dataframe tbody tr th {\n",
       "        vertical-align: top;\n",
       "    }\n",
       "\n",
       "    .dataframe thead th {\n",
       "        text-align: right;\n",
       "    }\n",
       "</style>\n",
       "<table border=\"1\" class=\"dataframe\">\n",
       "  <thead>\n",
       "    <tr style=\"text-align: right;\">\n",
       "      <th></th>\n",
       "      <th>number_of_ingredients</th>\n",
       "      <th>length_of_instructions</th>\n",
       "    </tr>\n",
       "  </thead>\n",
       "  <tbody>\n",
       "    <tr>\n",
       "      <th>0</th>\n",
       "      <td>7</td>\n",
       "      <td>613</td>\n",
       "    </tr>\n",
       "    <tr>\n",
       "      <th>1</th>\n",
       "      <td>10</td>\n",
       "      <td>862</td>\n",
       "    </tr>\n",
       "    <tr>\n",
       "      <th>2</th>\n",
       "      <td>6</td>\n",
       "      <td>273</td>\n",
       "    </tr>\n",
       "    <tr>\n",
       "      <th>3</th>\n",
       "      <td>4</td>\n",
       "      <td>354</td>\n",
       "    </tr>\n",
       "    <tr>\n",
       "      <th>4</th>\n",
       "      <td>7</td>\n",
       "      <td>637</td>\n",
       "    </tr>\n",
       "    <tr>\n",
       "      <th>...</th>\n",
       "      <td>...</td>\n",
       "      <td>...</td>\n",
       "    </tr>\n",
       "    <tr>\n",
       "      <th>7868</th>\n",
       "      <td>15</td>\n",
       "      <td>1668</td>\n",
       "    </tr>\n",
       "    <tr>\n",
       "      <th>7869</th>\n",
       "      <td>13</td>\n",
       "      <td>686</td>\n",
       "    </tr>\n",
       "    <tr>\n",
       "      <th>7870</th>\n",
       "      <td>7</td>\n",
       "      <td>857</td>\n",
       "    </tr>\n",
       "    <tr>\n",
       "      <th>7871</th>\n",
       "      <td>6</td>\n",
       "      <td>1301</td>\n",
       "    </tr>\n",
       "    <tr>\n",
       "      <th>7872</th>\n",
       "      <td>20</td>\n",
       "      <td>2897</td>\n",
       "    </tr>\n",
       "  </tbody>\n",
       "</table>\n",
       "<p>7873 rows × 2 columns</p>\n",
       "</div>"
      ],
      "text/plain": [
       "      number_of_ingredients  length_of_instructions\n",
       "0                         7                     613\n",
       "1                        10                     862\n",
       "2                         6                     273\n",
       "3                         4                     354\n",
       "4                         7                     637\n",
       "...                     ...                     ...\n",
       "7868                     15                    1668\n",
       "7869                     13                     686\n",
       "7870                      7                     857\n",
       "7871                      6                    1301\n",
       "7872                     20                    2897\n",
       "\n",
       "[7873 rows x 2 columns]"
      ]
     },
     "execution_count": 5,
     "metadata": {},
     "output_type": "execute_result"
    }
   ],
   "source": [
    "X"
   ]
  },
  {
   "cell_type": "markdown",
   "id": "b499d2e4",
   "metadata": {},
   "source": [
    "## Scaling"
   ]
  },
  {
   "cell_type": "code",
   "execution_count": 30,
   "id": "52d1be35",
   "metadata": {
    "scrolled": false
   },
   "outputs": [
    {
     "data": {
      "text/html": [
       "<div>\n",
       "<style scoped>\n",
       "    .dataframe tbody tr th:only-of-type {\n",
       "        vertical-align: middle;\n",
       "    }\n",
       "\n",
       "    .dataframe tbody tr th {\n",
       "        vertical-align: top;\n",
       "    }\n",
       "\n",
       "    .dataframe thead th {\n",
       "        text-align: right;\n",
       "    }\n",
       "</style>\n",
       "<table border=\"1\" class=\"dataframe\">\n",
       "  <thead>\n",
       "    <tr style=\"text-align: right;\">\n",
       "      <th></th>\n",
       "      <th>number_of_ingredients</th>\n",
       "      <th>length_of_instructions</th>\n",
       "    </tr>\n",
       "  </thead>\n",
       "  <tbody>\n",
       "    <tr>\n",
       "      <th>0</th>\n",
       "      <td>0.12</td>\n",
       "      <td>0.041119</td>\n",
       "    </tr>\n",
       "    <tr>\n",
       "      <th>1</th>\n",
       "      <td>0.18</td>\n",
       "      <td>0.059018</td>\n",
       "    </tr>\n",
       "    <tr>\n",
       "      <th>2</th>\n",
       "      <td>0.10</td>\n",
       "      <td>0.016677</td>\n",
       "    </tr>\n",
       "    <tr>\n",
       "      <th>3</th>\n",
       "      <td>0.06</td>\n",
       "      <td>0.022500</td>\n",
       "    </tr>\n",
       "    <tr>\n",
       "      <th>4</th>\n",
       "      <td>0.12</td>\n",
       "      <td>0.042844</td>\n",
       "    </tr>\n",
       "    <tr>\n",
       "      <th>...</th>\n",
       "      <td>...</td>\n",
       "      <td>...</td>\n",
       "    </tr>\n",
       "    <tr>\n",
       "      <th>7868</th>\n",
       "      <td>0.28</td>\n",
       "      <td>0.116958</td>\n",
       "    </tr>\n",
       "    <tr>\n",
       "      <th>7869</th>\n",
       "      <td>0.24</td>\n",
       "      <td>0.046366</td>\n",
       "    </tr>\n",
       "    <tr>\n",
       "      <th>7870</th>\n",
       "      <td>0.12</td>\n",
       "      <td>0.058659</td>\n",
       "    </tr>\n",
       "    <tr>\n",
       "      <th>7871</th>\n",
       "      <td>0.10</td>\n",
       "      <td>0.090576</td>\n",
       "    </tr>\n",
       "    <tr>\n",
       "      <th>7872</th>\n",
       "      <td>0.38</td>\n",
       "      <td>0.205305</td>\n",
       "    </tr>\n",
       "  </tbody>\n",
       "</table>\n",
       "<p>7873 rows × 2 columns</p>\n",
       "</div>"
      ],
      "text/plain": [
       "      number_of_ingredients  length_of_instructions\n",
       "0                      0.12                0.041119\n",
       "1                      0.18                0.059018\n",
       "2                      0.10                0.016677\n",
       "3                      0.06                0.022500\n",
       "4                      0.12                0.042844\n",
       "...                     ...                     ...\n",
       "7868                   0.28                0.116958\n",
       "7869                   0.24                0.046366\n",
       "7870                   0.12                0.058659\n",
       "7871                   0.10                0.090576\n",
       "7872                   0.38                0.205305\n",
       "\n",
       "[7873 rows x 2 columns]"
      ]
     },
     "execution_count": 30,
     "metadata": {},
     "output_type": "execute_result"
    }
   ],
   "source": [
    "scaler = MinMaxScaler()\n",
    "X_scaled = pd.DataFrame(scaler.fit_transform(X), columns=X.columns)\n",
    "X_scaled"
   ]
  },
  {
   "cell_type": "code",
   "execution_count": 31,
   "id": "4dee4b1e",
   "metadata": {},
   "outputs": [],
   "source": [
    "X_scaled ['euclidian'] = 0 "
   ]
  },
  {
   "cell_type": "code",
   "execution_count": 32,
   "id": "5a717479",
   "metadata": {},
   "outputs": [],
   "source": [
    "X_scaled['euclidian'] = X_scaled.apply(lambda x: \n",
    "                                   np.sqrt(x['number_of_ingredients']**2 + x['length_of_instructions']**2) ,axis = 1 )"
   ]
  },
  {
   "cell_type": "code",
   "execution_count": 35,
   "id": "607845c8",
   "metadata": {
    "scrolled": true
   },
   "outputs": [
    {
     "data": {
      "text/plain": [
       "<AxesSubplot:>"
      ]
     },
     "execution_count": 35,
     "metadata": {},
     "output_type": "execute_result"
    },
    {
     "data": {
      "image/png": "[encoded data removed]",
      "text/plain": [
       "<Figure size 432x288 with 1 Axes>"
      ]
     },
     "metadata": {
      "needs_background": "light"
     },
     "output_type": "display_data"
    }
   ],
   "source": [
    "X_scaled.euclidian.hist(bins=50)"
   ]
  },
  {
   "cell_type": "code",
   "execution_count": 45,
   "id": "1214c891",
   "metadata": {},
   "outputs": [
    {
     "data": {
      "text/plain": [
       "0.1327901634651436"
      ]
     },
     "execution_count": 45,
     "metadata": {},
     "output_type": "execute_result"
    }
   ],
   "source": [
    "X_scaled.euclidian.quantile(0.25)"
   ]
  },
  {
   "cell_type": "code",
   "execution_count": 46,
   "id": "8c0ac6ba",
   "metadata": {},
   "outputs": [],
   "source": [
    "def classification(x):\n",
    "    if x < X_scaled.euclidian.quantile(0.25):\n",
    "        return 0\n",
    "    if x >= X_scaled.euclidian.quantile(0.25) and x < X_scaled.euclidian.quantile(0.5):\n",
    "        return 1\n",
    "    if x >= X_scaled.euclidian.quantile(0.5) and x < X_scaled.euclidian.quantile(0.75):\n",
    "        return 2\n",
    "    if x >= X_scaled.euclidian.quantile(0.75):\n",
    "        return 3"
   ]
  },
  {
   "cell_type": "code",
   "execution_count": 47,
   "id": "fff5b9ad",
   "metadata": {},
   "outputs": [],
   "source": [
    "X_scaled['class'] = 0"
   ]
  },
  {
   "cell_type": "code",
   "execution_count": 48,
   "id": "beba3d9e",
   "metadata": {},
   "outputs": [],
   "source": [
    "X_scaled['class'] = X_scaled.apply(lambda x: classification(x['euclidian']), axis=1)"
   ]
  },
  {
   "cell_type": "code",
   "execution_count": 49,
   "id": "e71c15aa",
   "metadata": {},
   "outputs": [
    {
     "data": {
      "text/plain": [
       "<matplotlib.collections.PathCollection at 0x14e2a4340>"
      ]
     },
     "execution_count": 49,
     "metadata": {},
     "output_type": "execute_result"
    },
    {
     "data": {
      "image/png": "[encoded data removed]",
      "text/plain": [
       "<Figure size 432x288 with 1 Axes>"
      ]
     },
     "metadata": {
      "needs_background": "light"
     },
     "output_type": "display_data"
    }
   ],
   "source": [
    "plt.scatter(x = X['length_of_instructions'],y= X['number_of_ingredients'] , c=X_scaled['class'], cmap='viridis')"
   ]
  },
  {
   "cell_type": "markdown",
   "id": "04d49c4d",
   "metadata": {},
   "source": [
    "## Final Clustering and Merge"
   ]
  },
  {
   "cell_type": "code",
   "execution_count": 51,
   "id": "e5ee4f1b",
   "metadata": {},
   "outputs": [
    {
     "data": {
      "text/html": [
       "<div>\n",
       "<style scoped>\n",
       "    .dataframe tbody tr th:only-of-type {\n",
       "        vertical-align: middle;\n",
       "    }\n",
       "\n",
       "    .dataframe tbody tr th {\n",
       "        vertical-align: top;\n",
       "    }\n",
       "\n",
       "    .dataframe thead th {\n",
       "        text-align: right;\n",
       "    }\n",
       "</style>\n",
       "<table border=\"1\" class=\"dataframe\">\n",
       "  <thead>\n",
       "    <tr style=\"text-align: right;\">\n",
       "      <th></th>\n",
       "      <th>number_of_ingredients</th>\n",
       "      <th>length_of_instructions</th>\n",
       "      <th>class</th>\n",
       "    </tr>\n",
       "  </thead>\n",
       "  <tbody>\n",
       "    <tr>\n",
       "      <th>0</th>\n",
       "      <td>7</td>\n",
       "      <td>613</td>\n",
       "      <td>0</td>\n",
       "    </tr>\n",
       "    <tr>\n",
       "      <th>1</th>\n",
       "      <td>10</td>\n",
       "      <td>862</td>\n",
       "      <td>1</td>\n",
       "    </tr>\n",
       "    <tr>\n",
       "      <th>2</th>\n",
       "      <td>6</td>\n",
       "      <td>273</td>\n",
       "      <td>0</td>\n",
       "    </tr>\n",
       "    <tr>\n",
       "      <th>3</th>\n",
       "      <td>4</td>\n",
       "      <td>354</td>\n",
       "      <td>0</td>\n",
       "    </tr>\n",
       "    <tr>\n",
       "      <th>4</th>\n",
       "      <td>7</td>\n",
       "      <td>637</td>\n",
       "      <td>0</td>\n",
       "    </tr>\n",
       "    <tr>\n",
       "      <th>...</th>\n",
       "      <td>...</td>\n",
       "      <td>...</td>\n",
       "      <td>...</td>\n",
       "    </tr>\n",
       "    <tr>\n",
       "      <th>7868</th>\n",
       "      <td>15</td>\n",
       "      <td>1668</td>\n",
       "      <td>3</td>\n",
       "    </tr>\n",
       "    <tr>\n",
       "      <th>7869</th>\n",
       "      <td>13</td>\n",
       "      <td>686</td>\n",
       "      <td>2</td>\n",
       "    </tr>\n",
       "    <tr>\n",
       "      <th>7870</th>\n",
       "      <td>7</td>\n",
       "      <td>857</td>\n",
       "      <td>1</td>\n",
       "    </tr>\n",
       "    <tr>\n",
       "      <th>7871</th>\n",
       "      <td>6</td>\n",
       "      <td>1301</td>\n",
       "      <td>1</td>\n",
       "    </tr>\n",
       "    <tr>\n",
       "      <th>7872</th>\n",
       "      <td>20</td>\n",
       "      <td>2897</td>\n",
       "      <td>3</td>\n",
       "    </tr>\n",
       "  </tbody>\n",
       "</table>\n",
       "<p>7873 rows × 3 columns</p>\n",
       "</div>"
      ],
      "text/plain": [
       "      number_of_ingredients  length_of_instructions  class\n",
       "0                         7                     613      0\n",
       "1                        10                     862      1\n",
       "2                         6                     273      0\n",
       "3                         4                     354      0\n",
       "4                         7                     637      0\n",
       "...                     ...                     ...    ...\n",
       "7868                     15                    1668      3\n",
       "7869                     13                     686      2\n",
       "7870                      7                     857      1\n",
       "7871                      6                    1301      1\n",
       "7872                     20                    2897      3\n",
       "\n",
       "[7873 rows x 3 columns]"
      ]
     },
     "execution_count": 51,
     "metadata": {},
     "output_type": "execute_result"
    }
   ],
   "source": [
    "X_labelled = pd.concat([X,X_scaled['class']],axis=1).rename(columns={0:\"complexity\"})\n",
    "X_labelled"
   ]
  },
  {
   "cell_type": "code",
   "execution_count": 55,
   "id": "071505e6",
   "metadata": {},
   "outputs": [
    {
     "data": {
      "text/plain": [
       "1    1969\n",
       "3    1969\n",
       "2    1968\n",
       "0    1967\n",
       "Name: class, dtype: int64"
      ]
     },
     "execution_count": 55,
     "metadata": {},
     "output_type": "execute_result"
    }
   ],
   "source": [
    "X_labelled['class'].value_counts()"
   ]
  },
  {
   "cell_type": "code",
   "execution_count": 57,
   "id": "e118fe20",
   "metadata": {
    "scrolled": true
   },
   "outputs": [
    {
     "data": {
      "text/html": [
       "<div>\n",
       "<style scoped>\n",
       "    .dataframe tbody tr th:only-of-type {\n",
       "        vertical-align: middle;\n",
       "    }\n",
       "\n",
       "    .dataframe tbody tr th {\n",
       "        vertical-align: top;\n",
       "    }\n",
       "\n",
       "    .dataframe thead th {\n",
       "        text-align: right;\n",
       "    }\n",
       "</style>\n",
       "<table border=\"1\" class=\"dataframe\">\n",
       "  <thead>\n",
       "    <tr style=\"text-align: right;\">\n",
       "      <th></th>\n",
       "      <th>number_of_ingredients</th>\n",
       "      <th>length_of_instructions</th>\n",
       "    </tr>\n",
       "    <tr>\n",
       "      <th>class</th>\n",
       "      <th></th>\n",
       "      <th></th>\n",
       "    </tr>\n",
       "  </thead>\n",
       "  <tbody>\n",
       "    <tr>\n",
       "      <th>0</th>\n",
       "      <td>5.277580</td>\n",
       "      <td>503.016268</td>\n",
       "    </tr>\n",
       "    <tr>\n",
       "      <th>1</th>\n",
       "      <td>8.557136</td>\n",
       "      <td>816.496191</td>\n",
       "    </tr>\n",
       "    <tr>\n",
       "      <th>2</th>\n",
       "      <td>11.600610</td>\n",
       "      <td>1095.084350</td>\n",
       "    </tr>\n",
       "    <tr>\n",
       "      <th>3</th>\n",
       "      <td>17.175724</td>\n",
       "      <td>1727.020823</td>\n",
       "    </tr>\n",
       "  </tbody>\n",
       "</table>\n",
       "</div>"
      ],
      "text/plain": [
       "       number_of_ingredients  length_of_instructions\n",
       "class                                               \n",
       "0                   5.277580              503.016268\n",
       "1                   8.557136              816.496191\n",
       "2                  11.600610             1095.084350\n",
       "3                  17.175724             1727.020823"
      ]
     },
     "execution_count": 57,
     "metadata": {},
     "output_type": "execute_result"
    }
   ],
   "source": [
    "X_labelled.groupby(by=\"class\", dropna=False).mean()"
   ]
  },
  {
   "cell_type": "code",
   "execution_count": 58,
   "id": "0ba567a6",
   "metadata": {},
   "outputs": [
    {
     "data": {
      "text/html": [
       "<div>\n",
       "<style scoped>\n",
       "    .dataframe tbody tr th:only-of-type {\n",
       "        vertical-align: middle;\n",
       "    }\n",
       "\n",
       "    .dataframe tbody tr th {\n",
       "        vertical-align: top;\n",
       "    }\n",
       "\n",
       "    .dataframe thead th {\n",
       "        text-align: right;\n",
       "    }\n",
       "</style>\n",
       "<table border=\"1\" class=\"dataframe\">\n",
       "  <thead>\n",
       "    <tr style=\"text-align: right;\">\n",
       "      <th></th>\n",
       "      <th>number_of_ingredients</th>\n",
       "      <th>length_of_instructions</th>\n",
       "      <th>class</th>\n",
       "    </tr>\n",
       "  </thead>\n",
       "  <tbody>\n",
       "    <tr>\n",
       "      <th>0</th>\n",
       "      <td>7</td>\n",
       "      <td>613</td>\n",
       "      <td>0</td>\n",
       "    </tr>\n",
       "    <tr>\n",
       "      <th>1</th>\n",
       "      <td>10</td>\n",
       "      <td>862</td>\n",
       "      <td>1</td>\n",
       "    </tr>\n",
       "    <tr>\n",
       "      <th>2</th>\n",
       "      <td>6</td>\n",
       "      <td>273</td>\n",
       "      <td>0</td>\n",
       "    </tr>\n",
       "    <tr>\n",
       "      <th>3</th>\n",
       "      <td>4</td>\n",
       "      <td>354</td>\n",
       "      <td>0</td>\n",
       "    </tr>\n",
       "    <tr>\n",
       "      <th>4</th>\n",
       "      <td>7</td>\n",
       "      <td>637</td>\n",
       "      <td>0</td>\n",
       "    </tr>\n",
       "    <tr>\n",
       "      <th>...</th>\n",
       "      <td>...</td>\n",
       "      <td>...</td>\n",
       "      <td>...</td>\n",
       "    </tr>\n",
       "    <tr>\n",
       "      <th>7868</th>\n",
       "      <td>15</td>\n",
       "      <td>1668</td>\n",
       "      <td>3</td>\n",
       "    </tr>\n",
       "    <tr>\n",
       "      <th>7869</th>\n",
       "      <td>13</td>\n",
       "      <td>686</td>\n",
       "      <td>2</td>\n",
       "    </tr>\n",
       "    <tr>\n",
       "      <th>7870</th>\n",
       "      <td>7</td>\n",
       "      <td>857</td>\n",
       "      <td>1</td>\n",
       "    </tr>\n",
       "    <tr>\n",
       "      <th>7871</th>\n",
       "      <td>6</td>\n",
       "      <td>1301</td>\n",
       "      <td>1</td>\n",
       "    </tr>\n",
       "    <tr>\n",
       "      <th>7872</th>\n",
       "      <td>20</td>\n",
       "      <td>2897</td>\n",
       "      <td>3</td>\n",
       "    </tr>\n",
       "  </tbody>\n",
       "</table>\n",
       "<p>7873 rows × 3 columns</p>\n",
       "</div>"
      ],
      "text/plain": [
       "      number_of_ingredients  length_of_instructions  class\n",
       "0                         7                     613      0\n",
       "1                        10                     862      1\n",
       "2                         6                     273      0\n",
       "3                         4                     354      0\n",
       "4                         7                     637      0\n",
       "...                     ...                     ...    ...\n",
       "7868                     15                    1668      3\n",
       "7869                     13                     686      2\n",
       "7870                      7                     857      1\n",
       "7871                      6                    1301      1\n",
       "7872                     20                    2897      3\n",
       "\n",
       "[7873 rows x 3 columns]"
      ]
     },
     "execution_count": 58,
     "metadata": {},
     "output_type": "execute_result"
    }
   ],
   "source": [
    "X_labelled"
   ]
  }
 ],
 "metadata": {
  "kernelspec": {
   "display_name": "Python 3 (ipykernel)",
   "language": "python",
   "name": "python3"
  },
  "language_info": {
   "codemirror_mode": {
    "name": "ipython",
    "version": 3
   },
   "file_extension": ".py",
   "mimetype": "text/x-python",
   "name": "python",
   "nbconvert_exporter": "python",
   "pygments_lexer": "ipython3",
   "version": "3.8.13"
  },
  "toc": {
   "base_numbering": 1,
   "nav_menu": {},
   "number_sections": true,
   "sideBar": true,
   "skip_h1_title": false,
   "title_cell": "Table of Contents",
   "title_sidebar": "Contents",
   "toc_cell": false,
   "toc_position": {},
   "toc_section_display": true,
   "toc_window_display": false
  }
 },
 "nbformat": 4,
 "nbformat_minor": 5
}
