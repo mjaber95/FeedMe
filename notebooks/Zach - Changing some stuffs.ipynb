{
 "cells": [
  {
   "cell_type": "code",
   "execution_count": 1,
   "id": "3beee597",
   "metadata": {},
   "outputs": [
    {
     "name": "stdout",
     "output_type": "stream",
     "text": [
      "Requirement already satisfied: plotly.express in /Users/zacharie/.pyenv/versions/3.8.13/envs/FeedMe/lib/python3.8/site-packages (0.4.1)\r\n",
      "Requirement already satisfied: plotly>=4.1.0 in /Users/zacharie/.pyenv/versions/3.8.13/envs/FeedMe/lib/python3.8/site-packages (from plotly.express) (5.8.0)\r\n",
      "Requirement already satisfied: patsy>=0.5 in /Users/zacharie/.pyenv/versions/3.8.13/envs/FeedMe/lib/python3.8/site-packages (from plotly.express) (0.5.2)\r\n",
      "Requirement already satisfied: numpy>=1.11 in /Users/zacharie/.pyenv/versions/3.8.13/envs/FeedMe/lib/python3.8/site-packages (from plotly.express) (1.22.4)\r\n",
      "Requirement already satisfied: scipy>=0.18 in /Users/zacharie/.pyenv/versions/3.8.13/envs/FeedMe/lib/python3.8/site-packages (from plotly.express) (1.8.1)\r\n",
      "Requirement already satisfied: pandas>=0.20.0 in /Users/zacharie/.pyenv/versions/3.8.13/envs/FeedMe/lib/python3.8/site-packages (from plotly.express) (1.4.2)\r\n",
      "Requirement already satisfied: statsmodels>=0.9.0 in /Users/zacharie/.pyenv/versions/3.8.13/envs/FeedMe/lib/python3.8/site-packages (from plotly.express) (0.13.2)\r\n",
      "Requirement already satisfied: python-dateutil>=2.8.1 in /Users/zacharie/.pyenv/versions/3.8.13/envs/FeedMe/lib/python3.8/site-packages (from pandas>=0.20.0->plotly.express) (2.8.2)\r\n",
      "Requirement already satisfied: pytz>=2020.1 in /Users/zacharie/.pyenv/versions/3.8.13/envs/FeedMe/lib/python3.8/site-packages (from pandas>=0.20.0->plotly.express) (2022.1)\r\n",
      "Requirement already satisfied: six in /Users/zacharie/.pyenv/versions/3.8.13/envs/FeedMe/lib/python3.8/site-packages (from patsy>=0.5->plotly.express) (1.15.0)\r\n",
      "Requirement already satisfied: tenacity>=6.2.0 in /Users/zacharie/.pyenv/versions/3.8.13/envs/FeedMe/lib/python3.8/site-packages (from plotly>=4.1.0->plotly.express) (8.0.1)\r\n",
      "Requirement already satisfied: packaging>=21.3 in /Users/zacharie/.pyenv/versions/3.8.13/envs/FeedMe/lib/python3.8/site-packages (from statsmodels>=0.9.0->plotly.express) (21.3)\r\n",
      "Requirement already satisfied: pyparsing!=3.0.5,>=2.0.2 in /Users/zacharie/.pyenv/versions/3.8.13/envs/FeedMe/lib/python3.8/site-packages (from packaging>=21.3->statsmodels>=0.9.0->plotly.express) (3.0.9)\r\n"
     ]
    }
   ],
   "source": [
    "import pandas as pd\n",
    "import numpy as np\n",
    "import string\n",
    "from nltk.corpus import stopwords \n",
    "from nltk.tokenize import word_tokenize\n",
    "from nltk.stem import WordNetLemmatizer\n",
    "import matplotlib.pyplot as plt\n",
    "from collections import Counter\n",
    "import re\n",
    "from ast import literal_eval\n",
    "import os\n",
    "import shutil\n",
    "\n",
    "\n",
    "# Scaling\n",
    "from sklearn.preprocessing import RobustScaler, StandardScaler, MinMaxScaler\n",
    "\n",
    "# Data Visualisation\n",
    "import matplotlib.pyplot as plt\n",
    "import seaborn as sns\n",
    "!pip install plotly.express\n",
    "import plotly.express as px"
   ]
  },
  {
   "cell_type": "code",
   "execution_count": 2,
   "id": "beffad10",
   "metadata": {},
   "outputs": [],
   "source": [
    "csv_path = '../raw_data/3105_receipe_final.csv'  "
   ]
  },
  {
   "cell_type": "code",
   "execution_count": 3,
   "id": "85543c83",
   "metadata": {},
   "outputs": [],
   "source": [
    "data = pd.read_csv(csv_path)"
   ]
  },
  {
   "cell_type": "code",
   "execution_count": 4,
   "id": "a95aeead",
   "metadata": {},
   "outputs": [
    {
     "data": {
      "text/plain": [
       "(3971, 51)"
      ]
     },
     "execution_count": 4,
     "metadata": {},
     "output_type": "execute_result"
    }
   ],
   "source": [
    "data.shape"
   ]
  },
  {
   "cell_type": "code",
   "execution_count": 5,
   "id": "95ad71f4",
   "metadata": {
    "scrolled": true
   },
   "outputs": [],
   "source": [
    "data.Relabelled_Ingredients = data.Relabelled_Ingredients.apply(literal_eval)\n",
    "data.Tokenized_Ingredients = data.Tokenized_Ingredients.apply(literal_eval)"
   ]
  },
  {
   "cell_type": "code",
   "execution_count": 6,
   "id": "c3fc5789",
   "metadata": {},
   "outputs": [],
   "source": [
    "lemmatizer = WordNetLemmatizer()"
   ]
  },
  {
   "cell_type": "code",
   "execution_count": 7,
   "id": "22f049be",
   "metadata": {},
   "outputs": [],
   "source": [
    "#brut allergens\n",
    "allergens = ['mustard','peanut','soy', 'walnut', 'almond', 'hazelnut', 'pecan', 'cashew', 'pistachio','wheat']\n",
    "vegetarian_stopwords = ['shrimp','beef','chicken','meat','fish','seafood','bacon','lard','sardines']\n",
    "vegan_stopwords =['shrimp','butter','sardines','cheese', 'nutella', 'beef','chicken','meat','fish','seafood','bacon','lard','eggs','casein','whey','lactose','gelatin','honey']\n",
    "\n",
    "#lemmatize allergens\n",
    "\n",
    "allergens_lem = [lemmatizer.lemmatize(w) for w in allergens]\n",
    "vegetarian_lem = [lemmatizer.lemmatize(w) for w in vegetarian_stopwords]\n",
    "vegan_lem = [lemmatizer.lemmatize(w) for w in vegan_stopwords]"
   ]
  },
  {
   "cell_type": "code",
   "execution_count": 8,
   "id": "3eb486ed",
   "metadata": {},
   "outputs": [
    {
     "data": {
      "text/plain": [
       "['shrimp',\n",
       " 'butter',\n",
       " 'sardine',\n",
       " 'cheese',\n",
       " 'nutella',\n",
       " 'beef',\n",
       " 'chicken',\n",
       " 'meat',\n",
       " 'fish',\n",
       " 'seafood',\n",
       " 'bacon',\n",
       " 'lard',\n",
       " 'egg',\n",
       " 'casein',\n",
       " 'whey',\n",
       " 'lactose',\n",
       " 'gelatin',\n",
       " 'honey']"
      ]
     },
     "execution_count": 8,
     "metadata": {},
     "output_type": "execute_result"
    }
   ],
   "source": [
    "vegan_lem"
   ]
  },
  {
   "cell_type": "code",
   "execution_count": 9,
   "id": "93dc0aed",
   "metadata": {},
   "outputs": [],
   "source": [
    "### function to check list in list\n",
    "\n",
    "def two_lists_check(veg, ingredients):\n",
    "    if any(item in veg for item in ingredients):\n",
    "        return 0\n",
    "    else:\n",
    "        \n",
    "        return 1"
   ]
  },
  {
   "cell_type": "code",
   "execution_count": 10,
   "id": "d00d4ef8",
   "metadata": {},
   "outputs": [],
   "source": [
    "## applying function\n",
    "data['vegetarian'] = 0\n",
    "data['vegan'] = 0\n",
    "\n",
    "data['vegetarian'] = data['Tokenized_Ingredients'].apply(lambda x: two_lists_check(vegetarian_lem,x))\n",
    "data['vegan'] = data['Tokenized_Ingredients'].apply(lambda x: two_lists_check(vegan_lem,x))"
   ]
  },
  {
   "cell_type": "code",
   "execution_count": 11,
   "id": "7abd9e0a",
   "metadata": {},
   "outputs": [
    {
     "data": {
      "text/plain": [
       "1151"
      ]
     },
     "execution_count": 11,
     "metadata": {},
     "output_type": "execute_result"
    }
   ],
   "source": [
    "data['vegan'].sum()"
   ]
  },
  {
   "cell_type": "code",
   "execution_count": 12,
   "id": "20ffcb57",
   "metadata": {},
   "outputs": [],
   "source": [
    "data.to_csv('../raw_data/0106_receipe_final.csv')"
   ]
  }
 ],
 "metadata": {
  "kernelspec": {
   "display_name": "Python 3 (ipykernel)",
   "language": "python",
   "name": "python3"
  },
  "language_info": {
   "codemirror_mode": {
    "name": "ipython",
    "version": 3
   },
   "file_extension": ".py",
   "mimetype": "text/x-python",
   "name": "python",
   "nbconvert_exporter": "python",
   "pygments_lexer": "ipython3",
   "version": "3.8.13"
  },
  "toc": {
   "base_numbering": 1,
   "nav_menu": {},
   "number_sections": true,
   "sideBar": true,
   "skip_h1_title": false,
   "title_cell": "Table of Contents",
   "title_sidebar": "Contents",
   "toc_cell": false,
   "toc_position": {},
   "toc_section_display": true,
   "toc_window_display": false
  }
 },
 "nbformat": 4,
 "nbformat_minor": 5
}
