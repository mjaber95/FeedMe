{
 "cells": [
  {
   "cell_type": "code",
   "execution_count": 4,
   "id": "0c292c1c",
   "metadata": {},
   "outputs": [],
   "source": [
    "import pandas as pd\n",
    "import numpy as np \n",
    "import seaborn as sns\n",
    "import matplotlib.pyplot as plt"
   ]
  },
  {
   "cell_type": "code",
   "execution_count": 5,
   "id": "a2a32da3",
   "metadata": {},
   "outputs": [],
   "source": [
    "#data import\n",
    "\n",
    "%load_ext autoreload\n",
    "%autoreload 2\n",
    "\n",
    "data = pd.read_csv(\"../raw_data/Cleaned_Recepies.csv\")\n",
    "missing_ingredients = pd.read_csv(\"../raw_data/missing_ingredients.csv\")"
   ]
  },
  {
   "cell_type": "code",
   "execution_count": 6,
   "id": "3718aca3",
   "metadata": {},
   "outputs": [],
   "source": [
    "final_data = pd.concat([data, missing_ingredients], axis=1, ignore_index=False)"
   ]
  },
  {
   "cell_type": "code",
   "execution_count": 7,
   "id": "6c66bba8",
   "metadata": {},
   "outputs": [],
   "source": [
    "final_data = final_data[final_data['Missing_Ingredient'].isna()]"
   ]
  },
  {
   "cell_type": "code",
   "execution_count": 8,
   "id": "f4f9ea33",
   "metadata": {},
   "outputs": [],
   "source": [
    "final_data = final_data.drop(columns=['Missing_Ingredient','Missing_Ingredient_Category','Unnamed: 0'])"
   ]
  },
  {
   "cell_type": "code",
   "execution_count": 13,
   "id": "ad689647",
   "metadata": {},
   "outputs": [
    {
     "data": {
      "text/plain": [
       "\"['egg', 'potato', 'salt', 'black pepper', 'rosemary', 'thyme', 'parsley']\""
      ]
     },
     "execution_count": 13,
     "metadata": {},
     "output_type": "execute_result"
    }
   ],
   "source": [
    "final_data['Relabelled_Ingredients'][1]"
   ]
  },
  {
   "cell_type": "code",
   "execution_count": 10,
   "id": "d36c682d",
   "metadata": {},
   "outputs": [],
   "source": [
    "#from pathlib import Path  \n",
    "#filepath = Path('../raw_data/reduced_dataset.csv')  \n",
    "#filepath.parent.mkdir(parents=True, exist_ok=True)  \n",
    "#final_data.to_csv(filepath)  "
   ]
  },
  {
   "cell_type": "code",
   "execution_count": null,
   "id": "1dc1c05e",
   "metadata": {},
   "outputs": [],
   "source": []
  }
 ],
 "metadata": {
  "kernelspec": {
   "display_name": "Python 3 (ipykernel)",
   "language": "python",
   "name": "python3"
  },
  "language_info": {
   "codemirror_mode": {
    "name": "ipython",
    "version": 3
   },
   "file_extension": ".py",
   "mimetype": "text/x-python",
   "name": "python",
   "nbconvert_exporter": "python",
   "pygments_lexer": "ipython3",
   "version": "3.8.13"
  },
  "toc": {
   "base_numbering": 1,
   "nav_menu": {},
   "number_sections": true,
   "sideBar": true,
   "skip_h1_title": false,
   "title_cell": "Table of Contents",
   "title_sidebar": "Contents",
   "toc_cell": false,
   "toc_position": {},
   "toc_section_display": true,
   "toc_window_display": false
  }
 },
 "nbformat": 4,
 "nbformat_minor": 5
}
