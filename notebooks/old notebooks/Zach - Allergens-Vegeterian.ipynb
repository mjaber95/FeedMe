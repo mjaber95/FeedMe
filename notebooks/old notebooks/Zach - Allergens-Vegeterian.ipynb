{
 "cells": [
  {
   "cell_type": "code",
   "execution_count": null,
   "id": "f561b330",
   "metadata": {},
   "outputs": [],
   "source": [
    "#import"
   ]
  },
  {
   "cell_type": "code",
   "execution_count": null,
   "id": "1a74ec4c",
   "metadata": {},
   "outputs": [],
   "source": [
    "#data load"
   ]
  },
  {
   "cell_type": "code",
   "execution_count": null,
   "id": "c8376ebb",
   "metadata": {},
   "outputs": [],
   "source": [
    "#list of allergens\n",
    "\n",
    "allergens = ['eggs','milk','mustard','peanut','soy', 'walnut', 'almond', 'hazelnut', 'pecan', 'cashew', 'pistachio','wheat']\n",
    "vegetarian_stopwords = ['beef','chicken','meat','fish','seafood','bacon']\n",
    "vegan_stopwords =['beef','chicken','meat','eggs','casein','whey','lactose','gelatin','lard','honey']\n"
   ]
  },
  {
   "cell_type": "code",
   "execution_count": 9,
   "id": "2212353c",
   "metadata": {},
   "outputs": [],
   "source": [
    "#functions \n",
    "def check(item, ingredients):\n",
    "    return int(item in ingredients)    "
   ]
  }
 ],
 "metadata": {
  "kernelspec": {
   "display_name": "Python 3 (ipykernel)",
   "language": "python",
   "name": "python3"
  },
  "language_info": {
   "codemirror_mode": {
    "name": "ipython",
    "version": 3
   },
   "file_extension": ".py",
   "mimetype": "text/x-python",
   "name": "python",
   "nbconvert_exporter": "python",
   "pygments_lexer": "ipython3",
   "version": "3.8.13"
  },
  "toc": {
   "base_numbering": 1,
   "nav_menu": {},
   "number_sections": true,
   "sideBar": true,
   "skip_h1_title": false,
   "title_cell": "Table of Contents",
   "title_sidebar": "Contents",
   "toc_cell": false,
   "toc_position": {},
   "toc_section_display": true,
   "toc_window_display": false
  }
 },
 "nbformat": 4,
 "nbformat_minor": 5
}
