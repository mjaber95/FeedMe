{
 "cells": [
  {
   "cell_type": "code",
   "execution_count": 1,
   "id": "120d4055",
   "metadata": {
    "collapsed": true
   },
   "outputs": [
    {
     "name": "stdout",
     "output_type": "stream",
     "text": [
      "Requirement already satisfied: nltk in /Users/zacharie/.pyenv/versions/3.8.13/envs/FeedMe/lib/python3.8/site-packages (3.7)\r\n",
      "Requirement already satisfied: click in /Users/zacharie/.pyenv/versions/3.8.13/envs/FeedMe/lib/python3.8/site-packages (from nltk) (8.1.3)\r\n",
      "Requirement already satisfied: tqdm in /Users/zacharie/.pyenv/versions/3.8.13/envs/FeedMe/lib/python3.8/site-packages (from nltk) (4.64.0)\r\n",
      "Requirement already satisfied: regex>=2021.8.3 in /Users/zacharie/.pyenv/versions/3.8.13/envs/FeedMe/lib/python3.8/site-packages (from nltk) (2022.4.24)\r\n",
      "Requirement already satisfied: joblib in /Users/zacharie/.pyenv/versions/3.8.13/envs/FeedMe/lib/python3.8/site-packages (from nltk) (1.1.0)\r\n"
     ]
    },
    {
     "name": "stderr",
     "output_type": "stream",
     "text": [
      "[nltk_data] Downloading package stopwords to\n",
      "[nltk_data]     /Users/zacharie/nltk_data...\n",
      "[nltk_data]   Package stopwords is already up-to-date!\n",
      "[nltk_data] Downloading package punkt to /Users/zacharie/nltk_data...\n",
      "[nltk_data]   Package punkt is already up-to-date!\n",
      "[nltk_data] Downloading package wordnet to\n",
      "[nltk_data]     /Users/zacharie/nltk_data...\n",
      "[nltk_data]   Package wordnet is already up-to-date!\n",
      "[nltk_data] Downloading package omw-1.4 to\n",
      "[nltk_data]     /Users/zacharie/nltk_data...\n",
      "[nltk_data]   Package omw-1.4 is already up-to-date!\n"
     ]
    }
   ],
   "source": [
    "# Import Modules \n",
    "\n",
    "import pandas as pd\n",
    "import numpy as np \n",
    "import seaborn as sns\n",
    "import matplotlib.pyplot as plt\n",
    "# When importing nltk for the first time, we need to also download a few built-in libraries\n",
    "!pip install nltk\n",
    "import nltk\n",
    "\n",
    "nltk.download('stopwords')\n",
    "nltk.download('punkt')\n",
    "nltk.download('wordnet')\n",
    "nltk.download('omw-1.4')\n",
    "\n",
    "from nltk.corpus import stopwords \n",
    "from nltk import word_tokenize\n",
    "\n",
    "stop_words = set(stopwords.words('english')) \n"
   ]
  },
  {
   "cell_type": "code",
   "execution_count": 2,
   "id": "81951e2e",
   "metadata": {},
   "outputs": [],
   "source": [
    "%load_ext autoreload\n",
    "%autoreload 2\n",
    "\n",
    "data = pd.read_csv(\"raw_data/Recipes/Food Ingredients and Recipe Dataset with Image Name Mapping.csv\")"
   ]
  },
  {
   "cell_type": "code",
   "execution_count": 3,
   "id": "f31765ab",
   "metadata": {},
   "outputs": [],
   "source": [
    "l = ['cup',\n",
    " 'tablespoon',\n",
    " 'teaspoon',\n",
    " 'chopped',\n",
    " 'salt',\n",
    " 'fresh',\n",
    " 'ounce',\n",
    " 'large',\n",
    " 'ground',\n",
    " 'sugar',\n",
    " 'pepper',\n",
    " 'pound',\n",
    " 'olive',\n",
    " 'finely',\n",
    " 'inch',\n",
    " 'cut',\n",
    " 'kosher',\n",
    " 'sliced',\n",
    " 'butter',\n",
    " 'plus',\n",
    " 'garlic',\n",
    " 'leaf',\n",
    " 'black',\n",
    " 'divided',\n",
    " 'unsalted',\n",
    " 'freshly',\n",
    " 'red',\n",
    " 'peeled',\n",
    " 'white',\n",
    " 'flour',\n",
    " 'thinly',\n",
    " 'piece',\n",
    " 'whole',\n",
    " 'medium',\n",
    " 'small',\n",
    " 'extra',\n",
    " 'water',\n",
    " 'stick',\n",
    " 'purpose',\n",
    " 'virgin',\n",
    " 'dried',\n",
    " 'tbsp',\n",
    " 'seed',\n",
    " 'tsp',\n",
    " 'green',\n",
    " 'halved',\n",
    " 'oz',\n",
    " 'minced',\n",
    " 'packed',\n",
    " 'baking',\n",
    " 'g',\n",
    " 'thick',\n",
    " 'slice',\n",
    " 'parsley',\n",
    " 'serving',\n",
    " 'lb',\n",
    " 'optional',\n",
    " 'dry',\n",
    " 'extract',\n",
    " 'brown',\n",
    " 'temperature',\n",
    " 'room',\n",
    " 'trimmed',\n",
    " 'heavy',\n",
    " 'crushed',\n",
    " 'sprig',\n",
    " 'lengthwise',\n",
    " 'cilantro',\n",
    " 'removed',\n",
    " 'preferably',\n",
    " 'diced',\n",
    " 'drained',\n",
    " 'bunch',\n",
    " 'half']\n",
    "\n",
    "stop_words.update(l)"
   ]
  },
  {
   "cell_type": "code",
   "execution_count": 4,
   "id": "33b862ee",
   "metadata": {},
   "outputs": [],
   "source": [
    "import string\n",
    "\n",
    "def text_to_list(text):\n",
    "    text = text.replace(\"['\", \"\")\n",
    "    text = text.replace(\"']\", \"\")\n",
    "    my_list = text.split(\"', '\")\n",
    "    return my_list\n",
    "\n",
    "def remove_punctuation(text):\n",
    "    for punctuation in string.punctuation: \n",
    "        text = text.replace(punctuation, ' ') \n",
    "    return text\n",
    "\n",
    "def remove_nonalpha(text):\n",
    "    list_of_words = text.split(' ')\n",
    "    list_clean = []\n",
    "    for words in list_of_words:\n",
    "        words_only = ''.join([i for i in words if i.isalpha()])\n",
    "        list_clean.append(words_only)\n",
    "    final_words = ' '.join(list_clean)\n",
    "    return final_words\n",
    "\n",
    "def lowercase(text): \n",
    "    lowercased = text.lower() \n",
    "    return lowercased\n",
    "\n",
    "def remove_stopwords(text):\n",
    "    tokenized = word_tokenize(text)\n",
    "    without_stopwords = [word for word in tokenized if not word in stop_words]\n",
    "    return without_stopwords\n",
    "\n",
    "from nltk.stem import WordNetLemmatizer\n",
    "\n",
    "def lemma(text):\n",
    "    lemmatizer = WordNetLemmatizer() # Initiate lemmatizer\n",
    "    lemmatized = [lemmatizer.lemmatize(word) for word in text] # Lemmatize\n",
    "    lemmatized_string = \" \".join(lemmatized)\n",
    "    return lemmatized_string\n",
    "\n",
    "def pun_list(liste):\n",
    "    my_list = [remove_punctuation(text) for text in liste]\n",
    "    return my_list\n",
    "def num_list(liste):\n",
    "    my_list = [remove_nonalpha(text) for text in liste]\n",
    "    return my_list\n",
    "def low_list(liste):\n",
    "    my_list = [lowercase(text) for text in liste]\n",
    "    return my_list\n",
    "def sto_list(liste):\n",
    "    my_list = [remove_stopwords(text) for text in liste]\n",
    "    return my_list\n",
    "def lem_list(liste):\n",
    "    my_list = [lemma(text) for text in liste]\n",
    "    return my_list\n",
    "    "
   ]
  },
  {
   "cell_type": "code",
   "execution_count": 5,
   "id": "5190776d",
   "metadata": {
    "scrolled": false
   },
   "outputs": [],
   "source": [
    "\n",
    "\n",
    "\n",
    "\n",
    "default_ingredients = ['apple', 'banana', 'beef', 'blueberries',\n",
    "                       'bread', 'butter', 'carrot', 'cheese',\n",
    "                       'chicken', 'chicken breast', 'chocolate',\n",
    "                       'corn', 'eggs', 'flour', 'goat cheese',\n",
    "                       'green beans', 'ground beef', 'ham', 'heavy cream',\n",
    "                       'lime', 'milk', 'mushrooms','onion',\n",
    "                       'potato', 'shrimp', 'spinach', 'strawberries',\n",
    "                       'sugar', 'sweet potato', 'tomato']\n",
    "\n",
    "l_ingredients = sto_list(default_ingredients)\n",
    "l_ingredients = lem_list(l_ingredients)\n",
    "l_ingredients = [word for word in l_ingredients if word]\n",
    "l_ingredients\n",
    "\n",
    "data[l_ingredients] = 0"
   ]
  },
  {
   "cell_type": "code",
   "execution_count": 6,
   "id": "3fd482fd",
   "metadata": {},
   "outputs": [],
   "source": [
    "data['ingredients_list'] = data['Cleaned_Ingredients']\n",
    "data['ingredients_list'] = data.ingredients_list.apply(text_to_list)\n",
    "data['ingredients_list'] = data.ingredients_list.apply(pun_list)\n",
    "data['ingredients_list'] = data.ingredients_list.apply(num_list)\n",
    "data['ingredients_list'] = data.ingredients_list.apply(low_list)\n",
    "data['ingredients_list'] = data.ingredients_list.apply(sto_list)\n",
    "data['ingredients_list'] = data.ingredients_list.apply(lem_list)\n",
    "\n",
    "#Second iteration \n",
    "\n",
    "data['ingredients_list'] = data.ingredients_list.apply(sto_list)\n",
    "data['ingredients_list'] = data.ingredients_list.apply(lem_list)\n",
    "data['ingredients_list'] = data['ingredients_list'].apply(lambda x: [word for word in x if word])"
   ]
  },
  {
   "cell_type": "code",
   "execution_count": null,
   "id": "8dd82cfa",
   "metadata": {},
   "outputs": [],
   "source": []
  },
  {
   "cell_type": "code",
   "execution_count": 7,
   "id": "b07f29f9",
   "metadata": {},
   "outputs": [],
   "source": [
    "#building ingredients table\n",
    "\n",
    "all_ingredients =[]\n",
    "\n",
    "for i in range (len(data['ingredients_list'])):\n",
    "    for j in range (len(data['ingredients_list'][i])):\n",
    "        all_ingredients.append(data['ingredients_list'][i][j])\n",
    "\n",
    "all_ingredients_sentence = ' '.join([i for i in all_ingredients])       \n",
    "list_ingredients = all_ingredients_sentence.split(\" \")\n",
    "\n",
    "df = pd.DataFrame(data = list_ingredients, columns =['word'])\n",
    "df['count'] = 1\n",
    "ingredients_df = pd.DataFrame(df.groupby('word')['count'].sum())"
   ]
  },
  {
   "cell_type": "code",
   "execution_count": 8,
   "id": "39d78354",
   "metadata": {},
   "outputs": [],
   "source": [
    "ingredients_df = ingredients_df.sort_values(by='count', ascending=False)"
   ]
  },
  {
   "cell_type": "code",
   "execution_count": 9,
   "id": "45902d3b",
   "metadata": {},
   "outputs": [
    {
     "data": {
      "text/html": [
       "<div>\n",
       "<style scoped>\n",
       "    .dataframe tbody tr th:only-of-type {\n",
       "        vertical-align: middle;\n",
       "    }\n",
       "\n",
       "    .dataframe tbody tr th {\n",
       "        vertical-align: top;\n",
       "    }\n",
       "\n",
       "    .dataframe thead th {\n",
       "        text-align: right;\n",
       "    }\n",
       "</style>\n",
       "<table border=\"1\" class=\"dataframe\">\n",
       "  <thead>\n",
       "    <tr style=\"text-align: right;\">\n",
       "      <th></th>\n",
       "      <th>count</th>\n",
       "    </tr>\n",
       "    <tr>\n",
       "      <th>word</th>\n",
       "      <th></th>\n",
       "    </tr>\n",
       "  </thead>\n",
       "  <tbody>\n",
       "    <tr>\n",
       "      <th>oil</th>\n",
       "      <td>9171</td>\n",
       "    </tr>\n",
       "    <tr>\n",
       "      <th>juice</th>\n",
       "      <td>4516</td>\n",
       "    </tr>\n",
       "    <tr>\n",
       "      <th>lemon</th>\n",
       "      <td>4331</td>\n",
       "    </tr>\n",
       "    <tr>\n",
       "      <th>clove</th>\n",
       "      <td>4137</td>\n",
       "    </tr>\n",
       "    <tr>\n",
       "      <th>egg</th>\n",
       "      <td>4122</td>\n",
       "    </tr>\n",
       "    <tr>\n",
       "      <th>...</th>\n",
       "      <td>...</td>\n",
       "    </tr>\n",
       "    <tr>\n",
       "      <th>elderberry</th>\n",
       "      <td>1</td>\n",
       "    </tr>\n",
       "    <tr>\n",
       "      <th>einkorn</th>\n",
       "      <td>1</td>\n",
       "    </tr>\n",
       "    <tr>\n",
       "      <th>prebaked</th>\n",
       "      <td>1</td>\n",
       "    </tr>\n",
       "    <tr>\n",
       "      <th>precrumbled</th>\n",
       "      <td>1</td>\n",
       "    </tr>\n",
       "    <tr>\n",
       "      <th>aaron</th>\n",
       "      <td>1</td>\n",
       "    </tr>\n",
       "  </tbody>\n",
       "</table>\n",
       "<p>5975 rows × 1 columns</p>\n",
       "</div>"
      ],
      "text/plain": [
       "             count\n",
       "word              \n",
       "oil           9171\n",
       "juice         4516\n",
       "lemon         4331\n",
       "clove         4137\n",
       "egg           4122\n",
       "...            ...\n",
       "elderberry       1\n",
       "einkorn          1\n",
       "prebaked         1\n",
       "precrumbled      1\n",
       "aaron            1\n",
       "\n",
       "[5975 rows x 1 columns]"
      ]
     },
     "execution_count": 9,
     "metadata": {},
     "output_type": "execute_result"
    }
   ],
   "source": [
    "ingredients_df"
   ]
  },
  {
   "cell_type": "code",
   "execution_count": 10,
   "id": "29798fb2",
   "metadata": {},
   "outputs": [
    {
     "data": {
      "text/plain": [
       "0        [chicken, acorn squash total, sage, rosemary, ...\n",
       "1              [egg, new potato diameter, rosemary, thyme]\n",
       "2        [evaporated milk, milk, powder, onion powder, ...\n",
       "3        [round italian loaf cube, oil, sweet italian s...\n",
       "4        [dark, hot, bourbon, lemon juice, apple storeb...\n",
       "                               ...                        \n",
       "13496    [unsweetened cocoa powder, double acting powde...\n",
       "13497    [preserved lemon, butternut squash seeded dice...\n",
       "13498    [leftover katsuo bushi bonito flake making das...\n",
       "13499    [baby spinach, feta crumbled scant, grated nut...\n",
       "13500    [poblano chile, tomato including juice, clove,...\n",
       "Name: ingredients_list, Length: 13501, dtype: object"
      ]
     },
     "execution_count": 10,
     "metadata": {},
     "output_type": "execute_result"
    }
   ],
   "source": [
    "data['ingredients_list']"
   ]
  },
  {
   "cell_type": "code",
   "execution_count": 11,
   "id": "b7225167",
   "metadata": {},
   "outputs": [
    {
     "data": {
      "text/plain": [
       "'basic lentil soup like amys onion turmeric cumin aleppo flake tomato paste egg ghee oil cumin oil finishing'"
      ]
     },
     "execution_count": 11,
     "metadata": {},
     "output_type": "execute_result"
    }
   ],
   "source": [
    "#from pathlib import Path  \n",
    "#filepath = Path('raw_data/ingredients_zach.csv')  \n",
    "#filepath.parent.mkdir(parents=True, exist_ok=True)  \n",
    "#ingredients_df.to_csv(filepath)  \n",
    "\n",
    "' '.join(data['ingredients_list'][9])"
   ]
  },
  {
   "cell_type": "code",
   "execution_count": 12,
   "id": "700f0dde",
   "metadata": {
    "scrolled": true
   },
   "outputs": [
    {
     "name": "stderr",
     "output_type": "stream",
     "text": [
      "/var/folders/vp/c987_zkx4hg6k0yfsdxsvmd80000gn/T/ipykernel_64028/1777820732.py:12: SettingWithCopyWarning: \n",
      "A value is trying to be set on a copy of a slice from a DataFrame\n",
      "\n",
      "See the caveats in the documentation: https://pandas.pydata.org/pandas-docs/stable/user_guide/indexing.html#returning-a-view-versus-a-copy\n",
      "  data[columns_name][i] = 1\n"
     ]
    }
   ],
   "source": [
    "for columns_name in l_ingredients:\n",
    "    for i in range(len(data['ingredients_list'])):\n",
    "        ingredients = ' '.join(data['ingredients_list'][i])\n",
    "        if columns_name in ingredients:\n",
    "            data[columns_name][i] = 1       \n",
    "        else:\n",
    "            continue\n"
   ]
  },
  {
   "cell_type": "code",
   "execution_count": 31,
   "id": "998425f0",
   "metadata": {
    "scrolled": true
   },
   "outputs": [
    {
     "ename": "KeyError",
     "evalue": "'ingredients'",
     "output_type": "error",
     "traceback": [
      "\u001b[0;31m---------------------------------------------------------------------------\u001b[0m",
      "\u001b[0;31mKeyError\u001b[0m                                  Traceback (most recent call last)",
      "File \u001b[0;32m~/.pyenv/versions/3.8.13/envs/FeedMe/lib/python3.8/site-packages/pandas/core/indexes/base.py:3621\u001b[0m, in \u001b[0;36mIndex.get_loc\u001b[0;34m(self, key, method, tolerance)\u001b[0m\n\u001b[1;32m   3620\u001b[0m \u001b[38;5;28;01mtry\u001b[39;00m:\n\u001b[0;32m-> 3621\u001b[0m     \u001b[38;5;28;01mreturn\u001b[39;00m \u001b[38;5;28;43mself\u001b[39;49m\u001b[38;5;241;43m.\u001b[39;49m\u001b[43m_engine\u001b[49m\u001b[38;5;241;43m.\u001b[39;49m\u001b[43mget_loc\u001b[49m\u001b[43m(\u001b[49m\u001b[43mcasted_key\u001b[49m\u001b[43m)\u001b[49m\n\u001b[1;32m   3622\u001b[0m \u001b[38;5;28;01mexcept\u001b[39;00m \u001b[38;5;167;01mKeyError\u001b[39;00m \u001b[38;5;28;01mas\u001b[39;00m err:\n",
      "File \u001b[0;32mpandas/_libs/index.pyx:136\u001b[0m, in \u001b[0;36mpandas._libs.index.IndexEngine.get_loc\u001b[0;34m()\u001b[0m\n",
      "File \u001b[0;32mpandas/_libs/index.pyx:163\u001b[0m, in \u001b[0;36mpandas._libs.index.IndexEngine.get_loc\u001b[0;34m()\u001b[0m\n",
      "File \u001b[0;32mpandas/_libs/hashtable_class_helper.pxi:5198\u001b[0m, in \u001b[0;36mpandas._libs.hashtable.PyObjectHashTable.get_item\u001b[0;34m()\u001b[0m\n",
      "File \u001b[0;32mpandas/_libs/hashtable_class_helper.pxi:5206\u001b[0m, in \u001b[0;36mpandas._libs.hashtable.PyObjectHashTable.get_item\u001b[0;34m()\u001b[0m\n",
      "\u001b[0;31mKeyError\u001b[0m: 'ingredients'",
      "\nThe above exception was the direct cause of the following exception:\n",
      "\u001b[0;31mKeyError\u001b[0m                                  Traceback (most recent call last)",
      "Input \u001b[0;32mIn [31]\u001b[0m, in \u001b[0;36m<cell line: 1>\u001b[0;34m()\u001b[0m\n\u001b[0;32m----> 1\u001b[0m \u001b[43mdata\u001b[49m\u001b[43m[\u001b[49m\u001b[38;5;124;43m'\u001b[39;49m\u001b[38;5;124;43mingredients\u001b[39;49m\u001b[38;5;124;43m'\u001b[39;49m\u001b[43m]\u001b[49m[\u001b[38;5;241m0\u001b[39m]\n",
      "File \u001b[0;32m~/.pyenv/versions/3.8.13/envs/FeedMe/lib/python3.8/site-packages/pandas/core/frame.py:3505\u001b[0m, in \u001b[0;36mDataFrame.__getitem__\u001b[0;34m(self, key)\u001b[0m\n\u001b[1;32m   3503\u001b[0m \u001b[38;5;28;01mif\u001b[39;00m \u001b[38;5;28mself\u001b[39m\u001b[38;5;241m.\u001b[39mcolumns\u001b[38;5;241m.\u001b[39mnlevels \u001b[38;5;241m>\u001b[39m \u001b[38;5;241m1\u001b[39m:\n\u001b[1;32m   3504\u001b[0m     \u001b[38;5;28;01mreturn\u001b[39;00m \u001b[38;5;28mself\u001b[39m\u001b[38;5;241m.\u001b[39m_getitem_multilevel(key)\n\u001b[0;32m-> 3505\u001b[0m indexer \u001b[38;5;241m=\u001b[39m \u001b[38;5;28;43mself\u001b[39;49m\u001b[38;5;241;43m.\u001b[39;49m\u001b[43mcolumns\u001b[49m\u001b[38;5;241;43m.\u001b[39;49m\u001b[43mget_loc\u001b[49m\u001b[43m(\u001b[49m\u001b[43mkey\u001b[49m\u001b[43m)\u001b[49m\n\u001b[1;32m   3506\u001b[0m \u001b[38;5;28;01mif\u001b[39;00m is_integer(indexer):\n\u001b[1;32m   3507\u001b[0m     indexer \u001b[38;5;241m=\u001b[39m [indexer]\n",
      "File \u001b[0;32m~/.pyenv/versions/3.8.13/envs/FeedMe/lib/python3.8/site-packages/pandas/core/indexes/base.py:3623\u001b[0m, in \u001b[0;36mIndex.get_loc\u001b[0;34m(self, key, method, tolerance)\u001b[0m\n\u001b[1;32m   3621\u001b[0m     \u001b[38;5;28;01mreturn\u001b[39;00m \u001b[38;5;28mself\u001b[39m\u001b[38;5;241m.\u001b[39m_engine\u001b[38;5;241m.\u001b[39mget_loc(casted_key)\n\u001b[1;32m   3622\u001b[0m \u001b[38;5;28;01mexcept\u001b[39;00m \u001b[38;5;167;01mKeyError\u001b[39;00m \u001b[38;5;28;01mas\u001b[39;00m err:\n\u001b[0;32m-> 3623\u001b[0m     \u001b[38;5;28;01mraise\u001b[39;00m \u001b[38;5;167;01mKeyError\u001b[39;00m(key) \u001b[38;5;28;01mfrom\u001b[39;00m \u001b[38;5;21;01merr\u001b[39;00m\n\u001b[1;32m   3624\u001b[0m \u001b[38;5;28;01mexcept\u001b[39;00m \u001b[38;5;167;01mTypeError\u001b[39;00m:\n\u001b[1;32m   3625\u001b[0m     \u001b[38;5;66;03m# If we have a listlike key, _check_indexing_error will raise\u001b[39;00m\n\u001b[1;32m   3626\u001b[0m     \u001b[38;5;66;03m#  InvalidIndexError. Otherwise we fall through and re-raise\u001b[39;00m\n\u001b[1;32m   3627\u001b[0m     \u001b[38;5;66;03m#  the TypeError.\u001b[39;00m\n\u001b[1;32m   3628\u001b[0m     \u001b[38;5;28mself\u001b[39m\u001b[38;5;241m.\u001b[39m_check_indexing_error(key)\n",
      "\u001b[0;31mKeyError\u001b[0m: 'ingredients'"
     ]
    }
   ],
   "source": [
    "data['ingredients_list'][0]\n"
   ]
  },
  {
   "cell_type": "code",
   "execution_count": null,
   "id": "275a37f9",
   "metadata": {},
   "outputs": [],
   "source": []
  }
 ],
 "metadata": {
  "kernelspec": {
   "display_name": "Python 3 (ipykernel)",
   "language": "python",
   "name": "python3"
  },
  "language_info": {
   "codemirror_mode": {
    "name": "ipython",
    "version": 3
   },
   "file_extension": ".py",
   "mimetype": "text/x-python",
   "name": "python",
   "nbconvert_exporter": "python",
   "pygments_lexer": "ipython3",
   "version": "3.8.13"
  },
  "toc": {
   "base_numbering": 1,
   "nav_menu": {},
   "number_sections": true,
   "sideBar": true,
   "skip_h1_title": false,
   "title_cell": "Table of Contents",
   "title_sidebar": "Contents",
   "toc_cell": false,
   "toc_position": {},
   "toc_section_display": true,
   "toc_window_display": false
  }
 },
 "nbformat": 4,
 "nbformat_minor": 5
}
